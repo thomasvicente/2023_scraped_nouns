{
  "nbformat": 4,
  "nbformat_minor": 0,
  "metadata": {
    "colab": {
      "provenance": [],
      "authorship_tag": "ABX9TyO5EJC/tme7NS5u0S+lEFtu",
      "include_colab_link": true
    },
    "kernelspec": {
      "name": "python3",
      "display_name": "Python 3"
    },
    "language_info": {
      "name": "python"
    }
  },
  "cells": [
    {
      "cell_type": "markdown",
      "metadata": {
        "id": "view-in-github",
        "colab_type": "text"
      },
      "source": [
        "<a href=\"https://colab.research.google.com/github/thomasvicente/2023_scraped_nouns/blob/main/wiktionary_scraping_workbench.ipynb\" target=\"_parent\"><img src=\"https://colab.research.google.com/assets/colab-badge.svg\" alt=\"Open In Colab\"/></a>"
      ]
    },
    {
      "cell_type": "code",
      "source": [
        "import requests\n",
        "from bs4 import BeautifulSoup\n",
        "\n",
        "BASE_URL = 'https://en.wiktionary.org'\n",
        "\n",
        "#get all url's for category and put here\n",
        "language = 'Vietnamese'\n",
        "categories = [\n",
        "              'Category' + language + '_common-gender_nouns',\n",
        "              'Category:' + language + '_feminine_nouns',\n",
        "              'Category:' + language + '_masculine_nouns',\n",
        "              'Category:' + language + '_nouns_with_multiple_genders',\n",
        "              'Category:' + language + '_neuter_nouns',\n",
        "              'Category:' + language + '_masculine_and_feminine_nouns_by_sense'\n",
        "              ]\n",
        "\n",
        "def get_page_data(url):\n",
        "    response = requests.get(url)\n",
        "    return BeautifulSoup(response.text, 'lxml')\n",
        "\n",
        "def get_pagination_links(url):\n",
        "    pagination_links = [url]\n",
        "    while True:\n",
        "        soup = get_page_data(url)\n",
        "        next_link = soup.find('a', text='next page')\n",
        "        if next_link is None:\n",
        "            break\n",
        "        url = BASE_URL + next_link['href']\n",
        "        pagination_links.append(url)\n",
        "    return pagination_links\n",
        "\n",
        "def get_nouns(url):\n",
        "    soup = get_page_data(url)\n",
        "    category_group = soup.find('div', id='mw-pages')\n",
        "    if category_group:\n",
        "        links = category_group.find_all('a')\n",
        "        return [link['title'] for link in links if ':' not in link['title']]\n",
        "    return []\n",
        "\n",
        "def main():\n",
        "    all_nouns = []\n",
        "    for category in categories:\n",
        "        print(f\"Scraping category: {category}\")\n",
        "        url = BASE_URL + '/wiki/' + category\n",
        "        pagination_links = get_pagination_links(url)\n",
        "        for link in pagination_links:\n",
        "            all_nouns.extend(get_nouns(link))\n",
        "    return all_nouns\n",
        "\n",
        "if __name__ == '__main__':\n",
        "    all_nouns = main()\n",
        "    file_path = language.lower() + \"_nouns.txt\"\n",
        "\n",
        "    with open(file_path, \"w\") as file:\n",
        "        file.write(\"\\n\".join(all_nouns))\n",
        "\n",
        "    print(\"File saved successfully.\")"
      ],
      "metadata": {
        "id": "zsTrdGbukPIY",
        "colab": {
          "base_uri": "https://localhost:8080/"
        },
        "outputId": "7483faa5-15cd-4358-dba2-2e05bcc36794"
      },
      "execution_count": null,
      "outputs": [
        {
          "output_type": "stream",
          "name": "stdout",
          "text": [
            "Scraping category: CategoryVietnamese_common-gender_nouns\n",
            "Scraping category: Category:Vietnamese_feminine_nouns\n"
          ]
        },
        {
          "output_type": "stream",
          "name": "stderr",
          "text": [
            "<ipython-input-26-a65bd088b9ae>:25: DeprecationWarning: The 'text' argument to find()-type methods is deprecated. Use 'string' instead.\n",
            "  next_link = soup.find('a', text='next page')\n"
          ]
        },
        {
          "output_type": "stream",
          "name": "stdout",
          "text": [
            "Scraping category: Category:Vietnamese_masculine_nouns\n",
            "Scraping category: Category:Vietnamese_nouns_with_multiple_genders\n",
            "Scraping category: Category:Vietnamese_neuter_nouns\n",
            "Scraping category: Category:Vietnamese_masculine_and_feminine_nouns_by_sense\n",
            "File saved successfully.\n"
          ]
        }
      ]
    },
    {
      "cell_type": "code",
      "source": [
        "#use this area to format category links for program above\n",
        "\n",
        "names = [\n",
        "              'Category:Zulu_class_1_nouns',\n",
        "              'Category:Zulu_class_1a_nouns',\n",
        "              'Category:Zulu_class_3_nouns',\n",
        "              'Category:Zulu_class_5_nouns',\n",
        "              'Category:Zulu_class_6_nouns',\n",
        "              'Category:Zulu_class_7_nouns',\n",
        "              'Category:Zulu_class_8_nouns',\n",
        "              'Category:Zulu_class_9_nouns',\n",
        "              'Category:Zulu_class_10_nouns',\n",
        "              'Category:Zulu_class_11_nouns',\n",
        "              'Category:Zulu_class_14_nouns',\n",
        "              'Category:Zulu_class_15_nouns',\n",
        "              'Category:Zulu_class_17_nouns'\n",
        "              ]\n",
        "for i in range(len(names)):\n",
        "  names[i] = names.replace('Zulu','Xhosa')\n",
        "\n",
        "print(names)"
      ],
      "metadata": {
        "colab": {
          "base_uri": "https://localhost:8080/"
        },
        "id": "zRzfckXV3ta0",
        "outputId": "c86d660c-7280-44e7-8a74-c8adae1f04f3"
      },
      "execution_count": null,
      "outputs": [
        {
          "output_type": "stream",
          "name": "stdout",
          "text": [
            "['Category:Xhosa_class_1_nouns', 'Category:Xhosa_class_1a_nouns', 'Category:Xhosa_class_3_nouns', 'Category:Xhosa_class_5_nouns', 'Category:Xhosa_class_6_nouns', 'Category:Xhosa_class_7_nouns', 'Category:Xhosa_class_8_nouns', 'Category:Xhosa_class_9_nouns', 'Category:Xhosa_class_10_nouns', 'Category:Xhosa_class_11_nouns', 'Category:Xhosa_class_14_nouns', 'Category:Xhosa_class_15_nouns', 'Category:Xhosa_class_17_nouns']\n"
          ]
        }
      ]
    },
    {
      "cell_type": "code",
      "source": [
        "#downloads file from colab virtual env to your local device\n",
        "from google.colab import files\n",
        "\n",
        "file_path = language.lower() + \"_nouns.txt\"\n",
        "\n",
        "with open(file_path, \"w\") as file:\n",
        "    file.write(\"\\n\".join(all_nouns))\n",
        "\n",
        "files.download(file_path)"
      ],
      "metadata": {
        "colab": {
          "base_uri": "https://localhost:8080/",
          "height": 17
        },
        "id": "MtJHarylOLgn",
        "outputId": "37a8e013-e537-4613-8b99-300a66b41112"
      },
      "execution_count": null,
      "outputs": [
        {
          "output_type": "display_data",
          "data": {
            "text/plain": [
              "<IPython.core.display.Javascript object>"
            ],
            "application/javascript": [
              "\n",
              "    async function download(id, filename, size) {\n",
              "      if (!google.colab.kernel.accessAllowed) {\n",
              "        return;\n",
              "      }\n",
              "      const div = document.createElement('div');\n",
              "      const label = document.createElement('label');\n",
              "      label.textContent = `Downloading \"${filename}\": `;\n",
              "      div.appendChild(label);\n",
              "      const progress = document.createElement('progress');\n",
              "      progress.max = size;\n",
              "      div.appendChild(progress);\n",
              "      document.body.appendChild(div);\n",
              "\n",
              "      const buffers = [];\n",
              "      let downloaded = 0;\n",
              "\n",
              "      const channel = await google.colab.kernel.comms.open(id);\n",
              "      // Send a message to notify the kernel that we're ready.\n",
              "      channel.send({})\n",
              "\n",
              "      for await (const message of channel.messages) {\n",
              "        // Send a message to notify the kernel that we're ready.\n",
              "        channel.send({})\n",
              "        if (message.buffers) {\n",
              "          for (const buffer of message.buffers) {\n",
              "            buffers.push(buffer);\n",
              "            downloaded += buffer.byteLength;\n",
              "            progress.value = downloaded;\n",
              "          }\n",
              "        }\n",
              "      }\n",
              "      const blob = new Blob(buffers, {type: 'application/binary'});\n",
              "      const a = document.createElement('a');\n",
              "      a.href = window.URL.createObjectURL(blob);\n",
              "      a.download = filename;\n",
              "      div.appendChild(a);\n",
              "      a.click();\n",
              "      div.remove();\n",
              "    }\n",
              "  "
            ]
          },
          "metadata": {}
        },
        {
          "output_type": "display_data",
          "data": {
            "text/plain": [
              "<IPython.core.display.Javascript object>"
            ],
            "application/javascript": [
              "download(\"download_76cdf648-9f93-41cc-b0ba-bc5a9502a240\", \"vietnamese_nouns.txt\", 0)"
            ]
          },
          "metadata": {}
        }
      ]
    }
  ]
}